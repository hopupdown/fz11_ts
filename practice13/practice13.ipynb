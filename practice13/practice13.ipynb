{
 "cells": [
  {
   "cell_type": "code",
   "execution_count": 1,
   "metadata": {},
   "outputs": [],
   "source": [
    "import pandas as pd\n",
    "import matplotlib.pyplot  as plt\n",
    "import os"
   ]
  },
  {
   "cell_type": "code",
   "execution_count": 2,
   "metadata": {},
   "outputs": [],
   "source": [
    "dirname = os.path.join(os.path.abspath(os.curdir), 'data', 'underwork')"
   ]
  },
  {
   "cell_type": "code",
   "execution_count": 3,
   "metadata": {},
   "outputs": [],
   "source": [
    "raw_data = {\"3\":(), \"5\":(), \"8\":(), \"10\":(), \"14\":(), \"15\":()}\n",
    "for v in raw_data:\n",
    "    calm = pd.read_csv(os.path.join(os.sep, dirname, v, 'calm_p.csv'))\n",
    "    work = pd.read_csv(os.path.join(os.sep, dirname, v,  'work_p.csv'))\n",
    "    tsdf_m = pd.read_csv(os.path.join(os.sep, dirname, v, 'meta_p.csv'))\n",
    "    sex = tsdf_m.iloc[0][\"values\"]\n",
    "    weight = tsdf_m.iloc[1][\"values\"]\n",
    "    height = tsdf_m.iloc[2][\"values\"]\n",
    "    calm[\"sex\"] = sex\n",
    "    calm[\"weight\"] = weight\n",
    "    calm[\"height\"] = height\n",
    "    calm[\"state\"] = 0\n",
    "    work[\"sex\"] = sex\n",
    "    work[\"weight\"] = weight\n",
    "    work[\"height\"] = height\n",
    "    work[\"state\"] = 1\n",
    "    raw_data[v] = (calm, work)"
   ]
  },
  {
   "cell_type": "code",
   "execution_count": 4,
   "metadata": {},
   "outputs": [],
   "source": [
    "raw_valid = {\"25\":(), \"27\":()}\n",
    "for v in raw_valid:\n",
    "    calm = pd.read_csv(os.path.join(os.sep, dirname, v, 'calm_p.csv'))\n",
    "    work = pd.read_csv(os.path.join(os.sep, dirname, v,  'work_p.csv'))\n",
    "    tsdf_m = pd.read_csv(os.path.join(os.sep, dirname, v, 'meta_p.csv'))\n",
    "    sex = tsdf_m.iloc[0][\"values\"]\n",
    "    weight = tsdf_m.iloc[1][\"values\"]\n",
    "    height = tsdf_m.iloc[2][\"values\"]\n",
    "    calm[\"sex\"] = sex\n",
    "    calm[\"weight\"] = weight\n",
    "    calm[\"height\"] = height\n",
    "    calm[\"state\"] = 0\n",
    "    work[\"sex\"] = sex\n",
    "    work[\"weight\"] = weight\n",
    "    work[\"height\"] = height\n",
    "    work[\"state\"] = 1\n",
    "    raw_valid[v] = (calm, work)"
   ]
  },
  {
   "cell_type": "code",
   "execution_count": 5,
   "metadata": {},
   "outputs": [
    {
     "name": "stderr",
     "output_type": "stream",
     "text": [
      "c:\\Users\\maga-\\AppData\\Local\\Programs\\Python\\Python311\\Lib\\site-packages\\gluonts\\json.py:101: UserWarning: Using `json`-module for json-handling. Consider installing one of `orjson`, `ujson` to speed up serialization and deserialization.\n",
      "  warnings.warn(\n"
     ]
    }
   ],
   "source": [
    "import pandas as pd\n",
    "import matplotlib.pyplot as plt\n",
    "\n",
    "from gluonts.dataset.pandas import PandasDataset\n",
    "from gluonts.dataset.split import split\n",
    "from gluonts.torch import DeepAREstimator"
   ]
  },
  {
   "cell_type": "code",
   "execution_count": 6,
   "metadata": {},
   "outputs": [],
   "source": [
    "data = []\n",
    "for v in raw_data:\n",
    "    data.append(raw_data[v][0])\n",
    "    data.append(raw_data[v][1])"
   ]
  },
  {
   "cell_type": "code",
   "execution_count": 7,
   "metadata": {},
   "outputs": [],
   "source": [
    "valid = []\n",
    "for v in raw_valid:\n",
    "    valid.append(raw_valid[v][0])\n",
    "    valid.append(raw_valid[v][1])"
   ]
  },
  {
   "cell_type": "code",
   "execution_count": 8,
   "metadata": {},
   "outputs": [],
   "source": [
    "for i in range(len(data)):\n",
    "    temp = data[i]\n",
    "    temp = temp.set_index(pd.date_range(start=0,periods=len(temp),freq=\"s\"))\n",
    "    data[i] = temp"
   ]
  },
  {
   "cell_type": "code",
   "execution_count": 9,
   "metadata": {},
   "outputs": [],
   "source": [
    "for i in range(len(valid)):\n",
    "    temp = valid[i]\n",
    "    temp = temp.set_index(pd.date_range(start=0,periods=len(temp),freq=\"s\"))\n",
    "    valid[i] = temp"
   ]
  },
  {
   "cell_type": "code",
   "execution_count": 10,
   "metadata": {},
   "outputs": [],
   "source": [
    "dataset = PandasDataset(data,target=\"1\",freq=\"s\")"
   ]
  },
  {
   "cell_type": "code",
   "execution_count": 11,
   "metadata": {},
   "outputs": [
    {
     "name": "stderr",
     "output_type": "stream",
     "text": [
      "GPU available: False, used: False\n",
      "TPU available: False, using: 0 TPU cores\n",
      "IPU available: False, using: 0 IPUs\n",
      "HPU available: False, using: 0 HPUs\n",
      "c:\\Users\\maga-\\AppData\\Local\\Programs\\Python\\Python311\\Lib\\site-packages\\lightning\\pytorch\\trainer\\configuration_validator.py:74: You defined a `validation_step` but have no `val_dataloader`. Skipping val loop.\n",
      "\n",
      "  | Name  | Type        | Params | In sizes                                                     | Out sizes  \n",
      "-------------------------------------------------------------------------------------------------------------------\n",
      "0 | model | DeepARModel | 25.1 K | [[1, 1], [1, 1], [1, 182, 7], [1, 182], [1, 182], [1, 1, 7]] | [1, 100, 1]\n",
      "-------------------------------------------------------------------------------------------------------------------\n",
      "25.1 K    Trainable params\n",
      "0         Non-trainable params\n",
      "25.1 K    Total params\n",
      "0.100     Total estimated model params size (MB)\n"
     ]
    },
    {
     "name": "stdout",
     "output_type": "stream",
     "text": [
      "Epoch 0: |          | 50/? [00:35<00:00,  1.43it/s, v_num=3, train_loss=1.460]"
     ]
    },
    {
     "name": "stderr",
     "output_type": "stream",
     "text": [
      "Epoch 0, global step 50: 'train_loss' reached 1.46298 (best 1.46298), saving model to 'd:\\\\Projects\\\\practice13\\\\lightning_logs\\\\version_3\\\\checkpoints\\\\epoch=0-step=50.ckpt' as top 1\n"
     ]
    },
    {
     "name": "stdout",
     "output_type": "stream",
     "text": [
      "Epoch 1: |          | 50/? [00:36<00:00,  1.38it/s, v_num=3, train_loss=-.376]"
     ]
    },
    {
     "name": "stderr",
     "output_type": "stream",
     "text": [
      "Epoch 1, global step 100: 'train_loss' reached -0.37560 (best -0.37560), saving model to 'd:\\\\Projects\\\\practice13\\\\lightning_logs\\\\version_3\\\\checkpoints\\\\epoch=1-step=100.ckpt' as top 1\n"
     ]
    },
    {
     "name": "stdout",
     "output_type": "stream",
     "text": [
      "Epoch 2: |          | 50/? [00:35<00:00,  1.41it/s, v_num=3, train_loss=-2.03]"
     ]
    },
    {
     "name": "stderr",
     "output_type": "stream",
     "text": [
      "Epoch 2, global step 150: 'train_loss' reached -2.02981 (best -2.02981), saving model to 'd:\\\\Projects\\\\practice13\\\\lightning_logs\\\\version_3\\\\checkpoints\\\\epoch=2-step=150.ckpt' as top 1\n"
     ]
    },
    {
     "name": "stdout",
     "output_type": "stream",
     "text": [
      "Epoch 3: |          | 50/? [00:32<00:00,  1.53it/s, v_num=3, train_loss=-2.74]"
     ]
    },
    {
     "name": "stderr",
     "output_type": "stream",
     "text": [
      "Epoch 3, global step 200: 'train_loss' reached -2.74346 (best -2.74346), saving model to 'd:\\\\Projects\\\\practice13\\\\lightning_logs\\\\version_3\\\\checkpoints\\\\epoch=3-step=200.ckpt' as top 1\n"
     ]
    },
    {
     "name": "stdout",
     "output_type": "stream",
     "text": [
      "Epoch 4: |          | 50/? [00:35<00:00,  1.42it/s, v_num=3, train_loss=-2.73]"
     ]
    },
    {
     "name": "stderr",
     "output_type": "stream",
     "text": [
      "Epoch 4, global step 250: 'train_loss' was not in top 1\n",
      "`Trainer.fit` stopped: `max_epochs=5` reached.\n"
     ]
    },
    {
     "name": "stdout",
     "output_type": "stream",
     "text": [
      "Epoch 4: |          | 50/? [00:35<00:00,  1.41it/s, v_num=3, train_loss=-2.73]\n"
     ]
    }
   ],
   "source": [
    "model = DeepAREstimator(\n",
    "    prediction_length=1, freq=\"s\", trainer_kwargs={\"max_epochs\": 5}\n",
    ").train(dataset)"
   ]
  },
  {
   "cell_type": "code",
   "execution_count": 12,
   "metadata": {},
   "outputs": [],
   "source": [
    "from pathlib import Path"
   ]
  },
  {
   "cell_type": "code",
   "execution_count": 14,
   "metadata": {},
   "outputs": [],
   "source": [
    "model.serialize(Path(\"./model\"))"
   ]
  },
  {
   "cell_type": "code",
   "execution_count": 19,
   "metadata": {},
   "outputs": [],
   "source": [
    "test_data = []\n",
    "for i in valid:\n",
    "    temp = []\n",
    "    for j in range(1,len(i)):\n",
    "        temp.append(i[:j])\n",
    "    test_data.append(temp)"
   ]
  },
  {
   "cell_type": "code",
   "execution_count": null,
   "metadata": {},
   "outputs": [],
   "source": [
    "#Здесь я использую только один из тестовых рядов, т.к. вычисление предсказаний для всех тестовых рядов займет очень много времени \n",
    "pred = []\n",
    "for i in [test_data[0]]:\n",
    "    temp = PandasDataset(i,target=\"1\",freq=\"s\")\n",
    "    pred_temp = []\n",
    "    forecasts = model.predict(temp)\n",
    "    for k,j in enumerate(forecasts):\n",
    "        pred_temp.append(j.quantile(0.5)[0])\n",
    "    pred.append(pred_temp)"
   ]
  },
  {
   "cell_type": "code",
   "execution_count": 31,
   "metadata": {},
   "outputs": [],
   "source": [
    "pred = pred[0]"
   ]
  },
  {
   "cell_type": "code",
   "execution_count": 37,
   "metadata": {},
   "outputs": [],
   "source": [
    "y_pred = pred\n",
    "y_true = valid[0][\"1\"].to_numpy()"
   ]
  },
  {
   "cell_type": "code",
   "execution_count": 40,
   "metadata": {},
   "outputs": [],
   "source": [
    "y_true = y_true[1:]"
   ]
  },
  {
   "cell_type": "code",
   "execution_count": 53,
   "metadata": {},
   "outputs": [],
   "source": [
    "import numpy as np\n",
    "from sklearn.metrics import (mean_absolute_error, mean_squared_error,\n",
    "                            r2_score)\n",
    "from math import sqrt\n",
    "\n",
    "def mean_absolute_percentage_error(y_true, y_pred):\n",
    "    return np.mean(np.abs((y_true - y_pred) / y_true)) * 100\n",
    "\n",
    "def validate(true, pred):\n",
    "    true = pd.DataFrame(true)[0]\n",
    "    pred = pd.DataFrame(pred)[0]\n",
    "    print(\"MSE:\", mean_squared_error(true, pred))\n",
    "    print(\"RMSE:\", sqrt(mean_squared_error(true, pred)))\n",
    "    print(\"MAE:\", mean_absolute_error(true, pred))\n",
    "    print(\"MAPE:\", mean_absolute_percentage_error(true, pred))\n",
    "    print(\"R2:\", r2_score(true, pred))"
   ]
  },
  {
   "cell_type": "code",
   "execution_count": 54,
   "metadata": {},
   "outputs": [
    {
     "name": "stdout",
     "output_type": "stream",
     "text": [
      "Метрики на тестовых данных\n",
      "MSE: 0.0001289755165428491\n",
      "RMSE: 0.011356738816352567\n",
      "MAE: 0.010109101285652506\n",
      "MAPE: 0.747194996339873\n",
      "R2: 0.9720617028509851\n"
     ]
    }
   ],
   "source": [
    "print(\"Метрики на тестовых данных\")\n",
    "validate(y_true,y_pred)"
   ]
  },
  {
   "cell_type": "code",
   "execution_count": 56,
   "metadata": {},
   "outputs": [
    {
     "data": {
      "text/plain": [
       "<matplotlib.legend.Legend at 0x1e0571a4a50>"
      ]
     },
     "execution_count": 56,
     "metadata": {},
     "output_type": "execute_result"
    },
    {
     "data": {
      "image/png": "[encoded data removed]",
      "text/plain": [
       "<Figure size 640x480 with 1 Axes>"
      ]
     },
     "metadata": {},
     "output_type": "display_data"
    }
   ],
   "source": [
    "plt.plot(y_true,color=\"b\",label=\"origin\")\n",
    "plt.plot(y_pred,color=\"r\",label=\"predicted\")\n",
    "plt.legend()"
   ]
  },
  {
   "cell_type": "code",
   "execution_count": null,
   "metadata": {},
   "outputs": [],
   "source": []
  }
 ],
 "metadata": {
  "kernelspec": {
   "display_name": "Python 3",
   "language": "python",
   "name": "python3"
  },
  "language_info": {
   "codemirror_mode": {
    "name": "ipython",
    "version": 3
   },
   "file_extension": ".py",
   "mimetype": "text/x-python",
   "name": "python",
   "nbconvert_exporter": "python",
   "pygments_lexer": "ipython3",
   "version": "3.11.4"
  }
 },
 "nbformat": 4,
 "nbformat_minor": 2
}
