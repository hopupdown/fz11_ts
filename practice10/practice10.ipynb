{
 "cells": [
  {
   "cell_type": "code",
   "execution_count": 37,
   "metadata": {},
   "outputs": [],
   "source": [
    "import numpy as np\n",
    "from scipy.io import wavfile\n",
    "from scipy import signal\n",
    "from pydub import AudioSegment"
   ]
  },
  {
   "cell_type": "code",
   "execution_count": 38,
   "metadata": {},
   "outputs": [],
   "source": [
    "path = \"./Bontempi-B3-C5.wav\"\n",
    "asegment = AudioSegment.from_wav(path)\n",
    "asegment = asegment.set_channels(1)\n",
    "asegment.export(\"mono.wav\",format=\"wav\")\n",
    "\n",
    "s,a = wavfile.read(\"mono.wav\")"
   ]
  },
  {
   "cell_type": "code",
   "execution_count": 39,
   "metadata": {},
   "outputs": [],
   "source": [
    "#Сократим длинный сигнал\n",
    "a = a[:len(a)//10]"
   ]
  },
  {
   "cell_type": "code",
   "execution_count": 40,
   "metadata": {},
   "outputs": [],
   "source": [
    "N = len(a)\n",
    "Fs = s\n",
    "M = 26\n",
    "f1 = 0\n",
    "fh = Fs"
   ]
  },
  {
   "cell_type": "code",
   "execution_count": 41,
   "metadata": {},
   "outputs": [],
   "source": [
    "x = np.ones(N)\n",
    "X = np.zeros([N,2])"
   ]
  },
  {
   "cell_type": "code",
   "execution_count": 42,
   "metadata": {},
   "outputs": [],
   "source": [
    "for i in range(N):\n",
    "    Sc = 0\n",
    "    Ss = 0\n",
    "    for j in range(N):\n",
    "        Sc += x[j]*np.cos(2*np.pi*i*j/N)\n",
    "        Ss += -x[j]*np.sin(2*np.pi*i*j/N)\n",
    "    X[i,0] = Sc\n",
    "    X[i,1] = Ss\n",
    "    "
   ]
  },
  {
   "cell_type": "code",
   "execution_count": 43,
   "metadata": {},
   "outputs": [],
   "source": [
    "def B(x):\n",
    "    return 1125*np.log(1+x/700)\n",
    "\n",
    "def rB(x):\n",
    "    return 700*(np.exp(x/1125)-1)"
   ]
  },
  {
   "cell_type": "code",
   "execution_count": 44,
   "metadata": {},
   "outputs": [],
   "source": [
    "def f(m,M,f1,fh,Fs,N):\n",
    "    return N/Fs*rB(B(f1)+m*(B(fh)-B(f1))/(M+1))"
   ]
  },
  {
   "cell_type": "code",
   "execution_count": 45,
   "metadata": {},
   "outputs": [],
   "source": [
    "def H(k,m,f1,fh,M,N,Fs):\n",
    "    if k < f(m,M,f1,fh,Fs,N):\n",
    "        return 0\n",
    "    elif f(m,M,f1,fh,Fs,N) <= k < f(m+1,M,f1,fh,Fs,N):\n",
    "        return (k-f(m,M,f1,fh,Fs,N))/(f(m+1,M,f1,fh,Fs,N)-f(m,M,f1,fh,Fs,N))\n",
    "    elif f(m+1,M,f1,fh,Fs,N) <= k <= f(m+2,M,f1,fh,Fs,N):\n",
    "        return (f(m+2,M,f1,fh,Fs,N)-k)/(f(m+2,M,f1,fh,Fs,N)-f(m+1,M,f1,fh,Fs,N))\n",
    "    else:\n",
    "        return 0\n"
   ]
  },
  {
   "cell_type": "code",
   "execution_count": 46,
   "metadata": {},
   "outputs": [],
   "source": [
    "S = np.zeros(M)"
   ]
  },
  {
   "cell_type": "code",
   "execution_count": 47,
   "metadata": {},
   "outputs": [],
   "source": [
    "for i in range(M):\n",
    "    w = 0\n",
    "    for j in range(N):\n",
    "        w += (X[j,0]*X[j,0] + X[j,1]*X[j,1])*H(j,i,f1,fh,M,N,Fs)\n",
    "    S[i] = np.log(w)\n",
    "    "
   ]
  },
  {
   "cell_type": "code",
   "execution_count": 48,
   "metadata": {},
   "outputs": [],
   "source": [
    "c = np.zeros(M)"
   ]
  },
  {
   "cell_type": "code",
   "execution_count": 49,
   "metadata": {},
   "outputs": [],
   "source": [
    "for i in range(M):\n",
    "    w = 0\n",
    "    for j in range(M):\n",
    "        w += S[j]*np.cos(np.pi*i*(j+1/2)/M)\n",
    "    c[i] = w"
   ]
  },
  {
   "cell_type": "code",
   "execution_count": 50,
   "metadata": {},
   "outputs": [
    {
     "data": {
      "text/plain": [
       "array([-1.16148416e+03, -7.12855977e+01, -5.04389650e+00, -1.40301450e+01,\n",
       "       -7.61355756e+00, -8.05122442e+00, -2.53451927e+00, -1.22602209e+00,\n",
       "       -7.26771688e-02, -1.20027571e+00,  4.31230301e-01, -1.18776155e+00,\n",
       "        3.04451867e+00, -8.72898456e-01,  1.37632488e+00, -8.09636648e-01,\n",
       "        1.08375702e+00, -1.48964324e-01, -5.36012151e-01, -9.76382921e-01,\n",
       "       -3.08904012e+00,  2.42712392e-01,  7.51063850e-02,  1.33352166e+00,\n",
       "        7.35957763e-01,  1.41974260e+00])"
      ]
     },
     "execution_count": 50,
     "metadata": {},
     "output_type": "execute_result"
    }
   ],
   "source": [
    "#Мэл-коэффициенты\n",
    "c"
   ]
  },
  {
   "cell_type": "code",
   "execution_count": null,
   "metadata": {},
   "outputs": [],
   "source": []
  }
 ],
 "metadata": {
  "kernelspec": {
   "display_name": "Python 3",
   "language": "python",
   "name": "python3"
  },
  "language_info": {
   "codemirror_mode": {
    "name": "ipython",
    "version": 3
   },
   "file_extension": ".py",
   "mimetype": "text/x-python",
   "name": "python",
   "nbconvert_exporter": "python",
   "pygments_lexer": "ipython3",
   "version": "3.11.4"
  }
 },
 "nbformat": 4,
 "nbformat_minor": 2
}
